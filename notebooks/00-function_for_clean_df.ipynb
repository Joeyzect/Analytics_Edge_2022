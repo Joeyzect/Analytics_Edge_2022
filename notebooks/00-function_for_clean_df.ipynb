{
 "cells": [
  {
   "cell_type": "code",
   "execution_count": 2,
   "id": "961807f4-0dd8-4750-b3d3-7f88fcda7580",
   "metadata": {},
   "outputs": [],
   "source": [
    "import numpy as np\n",
    "import pandas as pd"
   ]
  },
  {
   "cell_type": "code",
   "execution_count": 3,
   "id": "9fcb6acc-60d0-4e3f-8de1-4f6f9fff2026",
   "metadata": {},
   "outputs": [],
   "source": [
    "review=pd.read_csv(\"../data/raw/yelp_review.csv\")"
   ]
  },
  {
   "cell_type": "code",
   "execution_count": 10,
   "id": "24a62765-476b-45fa-b344-a3b952db0fed",
   "metadata": {},
   "outputs": [],
   "source": [
    "def clean_df(review):\n",
    "    # select only year 2016, 2017\n",
    "    review.loc[:, ('date')] = pd.to_datetime(review['date'])\n",
    "    review.loc[:, ('year')] = review['date'].dt.year\n",
    "    review.loc[:, ('month')] = review['date'].dt.month\n",
    "    review = review[review['year'] > 2015]\n",
    "    review = review[['business_id','review_id','date','year','month','stars','text','useful','funny','cool']]\n",
    "    \n",
    "    # filter restaurants that have at least 20+ reviews in 2016 & 2017\n",
    "    reviews_2016 = review[review['year'] == 2016]\n",
    "    reviews_2017 = review[review['year'] == 2017]\n",
    "    \n",
    "    big_list_2016 = reviews_2016.groupby(['business_id','month'])['review_id'].count()[(reviews_2016.groupby(['business_id','month'])['review_id'].count()>5)].groupby('business_id').count().sort_values(ascending=False)\n",
    "    big_list_2017 = reviews_2017.groupby(['business_id','month'])['review_id'].count()[(reviews_2017.groupby(['business_id','month'])['review_id'].count()>5)].groupby('business_id').count().sort_values(ascending=False)\n",
    "    \n",
    "    over_20_reviews_2016 = big_list_2016[big_list_2016==12].index\n",
    "    over_20_reviews_2017 = big_list_2017[big_list_2017==12].index\n",
    "    \n",
    "    in_2016 = set(over_20_reviews_2016)\n",
    "    in_2017 = set(over_20_reviews_2017)\n",
    "    \n",
    "    intersection = list(in_2016 & in_2017)\n",
    "\n",
    "    review = review[review['business_id'].isin(intersection)]\n",
    "    \n",
    "    return review"
   ]
  },
  {
   "cell_type": "code",
   "execution_count": 11,
   "id": "ffcf9cc1-b2d1-4de6-9847-1fd49850b651",
   "metadata": {},
   "outputs": [],
   "source": [
    "df_clean = clean_df(review)"
   ]
  },
  {
   "cell_type": "code",
   "execution_count": 12,
   "id": "a50d1605-b340-4322-a00b-92578d5c94fb",
   "metadata": {},
   "outputs": [
    {
     "data": {
      "text/html": [
       "<div>\n",
       "<style scoped>\n",
       "    .dataframe tbody tr th:only-of-type {\n",
       "        vertical-align: middle;\n",
       "    }\n",
       "\n",
       "    .dataframe tbody tr th {\n",
       "        vertical-align: top;\n",
       "    }\n",
       "\n",
       "    .dataframe thead th {\n",
       "        text-align: right;\n",
       "    }\n",
       "</style>\n",
       "<table border=\"1\" class=\"dataframe\">\n",
       "  <thead>\n",
       "    <tr style=\"text-align: right;\">\n",
       "      <th></th>\n",
       "      <th>business_id</th>\n",
       "      <th>review_id</th>\n",
       "      <th>date</th>\n",
       "      <th>year</th>\n",
       "      <th>month</th>\n",
       "      <th>stars</th>\n",
       "      <th>text</th>\n",
       "      <th>useful</th>\n",
       "      <th>funny</th>\n",
       "      <th>cool</th>\n",
       "    </tr>\n",
       "  </thead>\n",
       "  <tbody>\n",
       "    <tr>\n",
       "      <th>198</th>\n",
       "      <td>Trbt0Ex85yvwT8DHoEFCvg</td>\n",
       "      <td>qOkKKBgIvpg3xzxJitCoCQ</td>\n",
       "      <td>2017-10-11</td>\n",
       "      <td>2017</td>\n",
       "      <td>10</td>\n",
       "      <td>1</td>\n",
       "      <td>Ordered food to go from here.\\n\\nThey send you...</td>\n",
       "      <td>2</td>\n",
       "      <td>1</td>\n",
       "      <td>0</td>\n",
       "    </tr>\n",
       "    <tr>\n",
       "      <th>216</th>\n",
       "      <td>q3dJQtwZQrrurNT-1bNKgQ</td>\n",
       "      <td>YfcyLNPWXL9ihdnLIsX_Yg</td>\n",
       "      <td>2017-02-15</td>\n",
       "      <td>2017</td>\n",
       "      <td>2</td>\n",
       "      <td>4</td>\n",
       "      <td>We've been wanting to try this restaurant for ...</td>\n",
       "      <td>1</td>\n",
       "      <td>0</td>\n",
       "      <td>0</td>\n",
       "    </tr>\n",
       "    <tr>\n",
       "      <th>223</th>\n",
       "      <td>yhgUyctWczUN13MinNgZ3w</td>\n",
       "      <td>BU4KiBXGvrudZ_Dbx0lT_g</td>\n",
       "      <td>2017-05-20</td>\n",
       "      <td>2017</td>\n",
       "      <td>5</td>\n",
       "      <td>3</td>\n",
       "      <td>I recently payed this establishment a visit be...</td>\n",
       "      <td>1</td>\n",
       "      <td>0</td>\n",
       "      <td>0</td>\n",
       "    </tr>\n",
       "    <tr>\n",
       "      <th>227</th>\n",
       "      <td>ngs16C2M_uTq2zXamltHVw</td>\n",
       "      <td>izzYICg1JYsdg7t9W6FQcw</td>\n",
       "      <td>2017-05-28</td>\n",
       "      <td>2017</td>\n",
       "      <td>5</td>\n",
       "      <td>3</td>\n",
       "      <td>So leaving work the other night I was in the m...</td>\n",
       "      <td>3</td>\n",
       "      <td>0</td>\n",
       "      <td>0</td>\n",
       "    </tr>\n",
       "    <tr>\n",
       "      <th>267</th>\n",
       "      <td>SVGApDPNdpFlEjwRQThCxA</td>\n",
       "      <td>xGYGeu0zSTqLsUlG-_h6kQ</td>\n",
       "      <td>2017-02-01</td>\n",
       "      <td>2017</td>\n",
       "      <td>2</td>\n",
       "      <td>4</td>\n",
       "      <td>Stopped in here with my family for dinner toda...</td>\n",
       "      <td>1</td>\n",
       "      <td>0</td>\n",
       "      <td>0</td>\n",
       "    </tr>\n",
       "  </tbody>\n",
       "</table>\n",
       "</div>"
      ],
      "text/plain": [
       "                business_id               review_id       date  year  month  \\\n",
       "198  Trbt0Ex85yvwT8DHoEFCvg  qOkKKBgIvpg3xzxJitCoCQ 2017-10-11  2017     10   \n",
       "216  q3dJQtwZQrrurNT-1bNKgQ  YfcyLNPWXL9ihdnLIsX_Yg 2017-02-15  2017      2   \n",
       "223  yhgUyctWczUN13MinNgZ3w  BU4KiBXGvrudZ_Dbx0lT_g 2017-05-20  2017      5   \n",
       "227  ngs16C2M_uTq2zXamltHVw  izzYICg1JYsdg7t9W6FQcw 2017-05-28  2017      5   \n",
       "267  SVGApDPNdpFlEjwRQThCxA  xGYGeu0zSTqLsUlG-_h6kQ 2017-02-01  2017      2   \n",
       "\n",
       "     stars                                               text  useful  funny  \\\n",
       "198      1  Ordered food to go from here.\\n\\nThey send you...       2      1   \n",
       "216      4  We've been wanting to try this restaurant for ...       1      0   \n",
       "223      3  I recently payed this establishment a visit be...       1      0   \n",
       "227      3  So leaving work the other night I was in the m...       3      0   \n",
       "267      4  Stopped in here with my family for dinner toda...       1      0   \n",
       "\n",
       "     cool  \n",
       "198     0  \n",
       "216     0  \n",
       "223     0  \n",
       "227     0  \n",
       "267     0  "
      ]
     },
     "execution_count": 12,
     "metadata": {},
     "output_type": "execute_result"
    }
   ],
   "source": [
    "df_clean.head()"
   ]
  },
  {
   "cell_type": "code",
   "execution_count": 13,
   "id": "6a22c57c",
   "metadata": {},
   "outputs": [
    {
     "data": {
      "text/plain": [
       "398"
      ]
     },
     "execution_count": 13,
     "metadata": {},
     "output_type": "execute_result"
    }
   ],
   "source": [
    "df_clean['business_id'].nunique()"
   ]
  },
  {
   "cell_type": "code",
   "execution_count": 14,
   "id": "b6a09c32",
   "metadata": {},
   "outputs": [],
   "source": [
    "df_clean.to_csv('../data/filtered/cleaned_review.csv', index=False)"
   ]
  },
  {
   "cell_type": "code",
   "execution_count": 4,
   "id": "af21b3d8",
   "metadata": {},
   "outputs": [],
   "source": [
    "def clean_df_modi(review, x=5):\n",
    "    # select only year 2016, 2017\n",
    "    review.loc[:, ('date')] = pd.to_datetime(review['date'])\n",
    "    review.loc[:, ('year')] = review['date'].dt.year\n",
    "    review.loc[:, ('month')] = review['date'].dt.month\n",
    "    review = review[review['year'] > 2014]\n",
    "    review = review[['business_id','review_id','date','year','month','stars','text','useful','funny','cool']]\n",
    "    \n",
    "    # filter restaurants that have at least 20+ reviews in 2016 & 2017\n",
    "    reviews_2015 = review[review['year'] == 2015]\n",
    "    reviews_2016 = review[review['year'] == 2016]\n",
    "    reviews_2017 = review[review['year'] == 2017]\n",
    "    \n",
    "    big_list_2015 = reviews_2015.groupby(['business_id','month'])['review_id'].count()[(reviews_2015.groupby(['business_id','month'])['review_id'].count()>x)].groupby('business_id').count().sort_values(ascending=False)\n",
    "    big_list_2016 = reviews_2016.groupby(['business_id','month'])['review_id'].count()[(reviews_2016.groupby(['business_id','month'])['review_id'].count()>x)].groupby('business_id').count().sort_values(ascending=False)\n",
    "    big_list_2017 = reviews_2017.groupby(['business_id','month'])['review_id'].count()[(reviews_2017.groupby(['business_id','month'])['review_id'].count()>x)].groupby('business_id').count().sort_values(ascending=False)\n",
    "    \n",
    "    over_20_reviews_2015 = big_list_2015[big_list_2015==12].index\n",
    "    over_20_reviews_2016 = big_list_2016[big_list_2016==12].index\n",
    "    over_20_reviews_2017 = big_list_2017[big_list_2017==12].index\n",
    "    \n",
    "    in_2015 = set(over_20_reviews_2015)\n",
    "    in_2016 = set(over_20_reviews_2016)\n",
    "    in_2017 = set(over_20_reviews_2017)\n",
    "    \n",
    "    intersection = list(in_2015 & in_2016 & in_2017)\n",
    "\n",
    "    review = review[review['business_id'].isin(intersection)]\n",
    "    \n",
    "    return review"
   ]
  },
  {
   "cell_type": "code",
   "execution_count": 5,
   "id": "5d2c72cd",
   "metadata": {},
   "outputs": [],
   "source": [
    "df_clean = clean_df_modi(review, x=3)"
   ]
  },
  {
   "cell_type": "code",
   "execution_count": 7,
   "id": "006b9e34",
   "metadata": {},
   "outputs": [
    {
     "data": {
      "text/plain": [
       "282"
      ]
     },
     "execution_count": 7,
     "metadata": {},
     "output_type": "execute_result"
    }
   ],
   "source": [
    "df_clean['business_id'].nunique()"
   ]
  },
  {
   "cell_type": "code",
   "execution_count": 6,
   "id": "aca01147",
   "metadata": {},
   "outputs": [],
   "source": [
    "df_clean.to_csv('../data/filtered/cleaned_review_modi_3.csv', index=False)"
   ]
  },
  {
   "cell_type": "code",
   "execution_count": null,
   "id": "f7108acc",
   "metadata": {},
   "outputs": [],
   "source": []
  }
 ],
 "metadata": {
  "kernelspec": {
   "display_name": "Python 3.9.13 ('edge_project')",
   "language": "python",
   "name": "python3"
  },
  "language_info": {
   "codemirror_mode": {
    "name": "ipython",
    "version": 3
   },
   "file_extension": ".py",
   "mimetype": "text/x-python",
   "name": "python",
   "nbconvert_exporter": "python",
   "pygments_lexer": "ipython3",
   "version": "3.9.13"
  },
  "vscode": {
   "interpreter": {
    "hash": "86682233f7b56903dcb9f2369d8a4a57a4b6bc18e1108abd6c6b479e15e5bb3a"
   }
  }
 },
 "nbformat": 4,
 "nbformat_minor": 5
}
