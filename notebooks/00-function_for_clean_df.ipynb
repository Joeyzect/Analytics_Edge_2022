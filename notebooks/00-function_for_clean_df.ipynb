{
 "cells": [
  {
   "cell_type": "code",
   "execution_count": 1,
   "id": "961807f4-0dd8-4750-b3d3-7f88fcda7580",
   "metadata": {},
   "outputs": [],
   "source": [
    "import numpy as np\n",
    "import pandas as pd"
   ]
  },
  {
   "cell_type": "code",
   "execution_count": 2,
   "id": "9fcb6acc-60d0-4e3f-8de1-4f6f9fff2026",
   "metadata": {},
   "outputs": [],
   "source": [
    "review=pd.read_csv(\"./data/filtered/review_res_on.csv\")"
   ]
  },
  {
   "cell_type": "code",
   "execution_count": 3,
   "id": "24a62765-476b-45fa-b344-a3b952db0fed",
   "metadata": {},
   "outputs": [],
   "source": [
    "def clean_df(review):\n",
    "    # select only year 2016, 2017\n",
    "    review.loc[:, ('date')] = pd.to_datetime(review['date'])\n",
    "    review.loc[:, ('year')] = review['date'].dt.year\n",
    "    review.loc[:, ('month')] = review['date'].dt.month\n",
    "    review = review[review['year'] > 2015]\n",
    "    review = review[['business_id','date','year','month','stars','text','useful','funny','cool']]\n",
    "    \n",
    "    # filter restaurants that have at least 20+ reviews in 2016 & 2017\n",
    "    reviews_2016 = review[review['year'] == 2016]\n",
    "    reviews_2017 = review[review['year'] == 2017]\n",
    "    \n",
    "    over_20_reviews_2016 = reviews_2016['business_id'].value_counts()[reviews_2016['business_id'].value_counts() >= 20].index.tolist()\n",
    "    over_20_reviews_2017 = reviews_2017['business_id'].value_counts()[reviews_2017['business_id'].value_counts() >= 20].index.tolist()\n",
    "\n",
    "    in_2016 = set(over_20_reviews_2016)\n",
    "    in_2017 = set(over_20_reviews_2017)\n",
    "    \n",
    "    intersection = list(in_2016 & in_2017)\n",
    "\n",
    "    review = review[review['business_id'].isin(intersection)]\n",
    "    \n",
    "    return review"
   ]
  },
  {
   "cell_type": "code",
   "execution_count": 4,
   "id": "ffcf9cc1-b2d1-4de6-9847-1fd49850b651",
   "metadata": {},
   "outputs": [],
   "source": [
    "df_clean = clean_df(review)"
   ]
  },
  {
   "cell_type": "code",
   "execution_count": 5,
   "id": "3034c8d0-e825-412e-9d86-c5ceaf77e025",
   "metadata": {},
   "outputs": [
    {
     "data": {
      "text/html": [
       "<div>\n",
       "<style scoped>\n",
       "    .dataframe tbody tr th:only-of-type {\n",
       "        vertical-align: middle;\n",
       "    }\n",
       "\n",
       "    .dataframe tbody tr th {\n",
       "        vertical-align: top;\n",
       "    }\n",
       "\n",
       "    .dataframe thead th {\n",
       "        text-align: right;\n",
       "    }\n",
       "</style>\n",
       "<table border=\"1\" class=\"dataframe\">\n",
       "  <thead>\n",
       "    <tr style=\"text-align: right;\">\n",
       "      <th></th>\n",
       "      <th>business_id</th>\n",
       "      <th>date</th>\n",
       "      <th>year</th>\n",
       "      <th>month</th>\n",
       "      <th>stars</th>\n",
       "      <th>text</th>\n",
       "      <th>useful</th>\n",
       "      <th>funny</th>\n",
       "      <th>cool</th>\n",
       "    </tr>\n",
       "  </thead>\n",
       "  <tbody>\n",
       "    <tr>\n",
       "      <th>19</th>\n",
       "      <td>Tn8O4tv1U-n0PRC8kbJJPg</td>\n",
       "      <td>2016-04-06</td>\n",
       "      <td>2016</td>\n",
       "      <td>4</td>\n",
       "      <td>4</td>\n",
       "      <td>Great place in Chinatown to get banh mi! Just ...</td>\n",
       "      <td>0</td>\n",
       "      <td>0</td>\n",
       "      <td>0</td>\n",
       "    </tr>\n",
       "    <tr>\n",
       "      <th>32</th>\n",
       "      <td>3RlylOY452bA8rwliPUeUQ</td>\n",
       "      <td>2017-01-04</td>\n",
       "      <td>2017</td>\n",
       "      <td>1</td>\n",
       "      <td>4</td>\n",
       "      <td>My sister loves this place! Probably comes by ...</td>\n",
       "      <td>1</td>\n",
       "      <td>0</td>\n",
       "      <td>0</td>\n",
       "    </tr>\n",
       "    <tr>\n",
       "      <th>48</th>\n",
       "      <td>An-JJle53UMHokU4MwFktg</td>\n",
       "      <td>2017-01-26</td>\n",
       "      <td>2017</td>\n",
       "      <td>1</td>\n",
       "      <td>3</td>\n",
       "      <td>my sister is a big fan of the noodles here as ...</td>\n",
       "      <td>0</td>\n",
       "      <td>0</td>\n",
       "      <td>0</td>\n",
       "    </tr>\n",
       "    <tr>\n",
       "      <th>49</th>\n",
       "      <td>ZilzayEdyk70SoI-wruJbg</td>\n",
       "      <td>2017-01-04</td>\n",
       "      <td>2017</td>\n",
       "      <td>1</td>\n",
       "      <td>4</td>\n",
       "      <td>This is a most stop for me and my girlfriend w...</td>\n",
       "      <td>0</td>\n",
       "      <td>0</td>\n",
       "      <td>0</td>\n",
       "    </tr>\n",
       "    <tr>\n",
       "      <th>54</th>\n",
       "      <td>kKNauD7d3HOvumRV7JIAfg</td>\n",
       "      <td>2016-04-01</td>\n",
       "      <td>2016</td>\n",
       "      <td>4</td>\n",
       "      <td>4</td>\n",
       "      <td>Saw that there was a new place in the neighbor...</td>\n",
       "      <td>1</td>\n",
       "      <td>0</td>\n",
       "      <td>0</td>\n",
       "    </tr>\n",
       "  </tbody>\n",
       "</table>\n",
       "</div>"
      ],
      "text/plain": [
       "               business_id       date  year  month  stars  \\\n",
       "19  Tn8O4tv1U-n0PRC8kbJJPg 2016-04-06  2016      4      4   \n",
       "32  3RlylOY452bA8rwliPUeUQ 2017-01-04  2017      1      4   \n",
       "48  An-JJle53UMHokU4MwFktg 2017-01-26  2017      1      3   \n",
       "49  ZilzayEdyk70SoI-wruJbg 2017-01-04  2017      1      4   \n",
       "54  kKNauD7d3HOvumRV7JIAfg 2016-04-01  2016      4      4   \n",
       "\n",
       "                                                 text  useful  funny  cool  \n",
       "19  Great place in Chinatown to get banh mi! Just ...       0      0     0  \n",
       "32  My sister loves this place! Probably comes by ...       1      0     0  \n",
       "48  my sister is a big fan of the noodles here as ...       0      0     0  \n",
       "49  This is a most stop for me and my girlfriend w...       0      0     0  \n",
       "54  Saw that there was a new place in the neighbor...       1      0     0  "
      ]
     },
     "execution_count": 5,
     "metadata": {},
     "output_type": "execute_result"
    }
   ],
   "source": [
    "df_clean.head()"
   ]
  },
  {
   "cell_type": "code",
   "execution_count": null,
   "id": "ef2aacd9-1604-4e97-9408-8b7a100f6a61",
   "metadata": {},
   "outputs": [],
   "source": []
  }
 ],
 "metadata": {
  "kernelspec": {
   "display_name": "Python 3 (ipykernel)",
   "language": "python",
   "name": "python3"
  },
  "language_info": {
   "codemirror_mode": {
    "name": "ipython",
    "version": 3
   },
   "file_extension": ".py",
   "mimetype": "text/x-python",
   "name": "python",
   "nbconvert_exporter": "python",
   "pygments_lexer": "ipython3",
   "version": "3.9.7"
  }
 },
 "nbformat": 4,
 "nbformat_minor": 5
}
